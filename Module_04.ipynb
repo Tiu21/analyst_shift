{
 "cells": [
  {
   "cell_type": "markdown",
   "id": "dc6413cc",
   "metadata": {},
   "source": [
    "## Модуль 04: Python для работы с данными"
   ]
  },
  {
   "cell_type": "markdown",
   "id": "782a0f73",
   "metadata": {},
   "source": [
    "### Лабораторная работа 4.1"
   ]
  },
  {
   "cell_type": "markdown",
   "id": "29cafc75",
   "metadata": {},
   "source": [
    "1. В режиме калькулятора посчитать:\n",
    "    - Сумму чисел от 0 до 10\n",
    "    - Произведение их на 2\n",
    "    - Средний возраст в аудитории\n",
    "2. Описать в виде списка, кортежа и словаря\n",
    "    - Состав семьи\n",
    "    - Состав группы\n",
    "    - Зачетную книжку студента"
   ]
  },
  {
   "cell_type": "markdown",
   "id": "9820c3ac",
   "metadata": {},
   "source": [
    "__Пункт 1__"
   ]
  },
  {
   "cell_type": "code",
   "execution_count": 47,
   "id": "7c48636d",
   "metadata": {},
   "outputs": [
    {
     "name": "stdout",
     "output_type": "stream",
     "text": [
      "Сумма чисел от 0 до 10: 55\n"
     ]
    }
   ],
   "source": [
    "x = 1+2+3+4+5+6+7+8+9+10\n",
    "print(f\"Сумма чисел от 0 до 10: {x}\")"
   ]
  },
  {
   "cell_type": "code",
   "execution_count": 48,
   "id": "41b56cfc",
   "metadata": {},
   "outputs": [
    {
     "name": "stdout",
     "output_type": "stream",
     "text": [
      ":Произведение их на 2: 110\n"
     ]
    }
   ],
   "source": [
    "xx = x*2\n",
    "print(f\":Произведение их на 2: {xx}\")"
   ]
  },
  {
   "cell_type": "code",
   "execution_count": 49,
   "id": "c0a15e39",
   "metadata": {},
   "outputs": [
    {
     "name": "stdout",
     "output_type": "stream",
     "text": [
      "Средний возраст студентов: 19.11111111111111\n"
     ]
    }
   ],
   "source": [
    "mean_age = (19+18+17+20+21+20+19+19+19)/9\n",
    "print(f\"Средний возраст студентов: {mean_age}\")"
   ]
  },
  {
   "cell_type": "markdown",
   "id": "8af56a46",
   "metadata": {},
   "source": [
    "__Пункт 2__"
   ]
  },
  {
   "cell_type": "code",
   "execution_count": 51,
   "id": "96d89ca0",
   "metadata": {},
   "outputs": [
    {
     "name": "stdout",
     "output_type": "stream",
     "text": [
      " Состав семьи ['mom', 'dad', 'I'] \n",
      " Состав группы ['student1', 'student3', 'student2'] \n",
      " Зачетная книжка студента [5, 4, 5]\n"
     ]
    }
   ],
   "source": [
    "# Список\n",
    "fam_list = ['mom','dad','I']\n",
    "group_list = ['student1','student3','student2']\n",
    "book_list = [5,4,5]\n",
    "print(' Состав семьи', fam_list, '\\n',\n",
    "      'Состав группы', group_list, '\\n',\n",
    "      'Зачетная книжка студента', book_list)"
   ]
  },
  {
   "cell_type": "code",
   "execution_count": 53,
   "id": "551bc359",
   "metadata": {},
   "outputs": [
    {
     "name": "stdout",
     "output_type": "stream",
     "text": [
      " Состав семьи ('mom', 'dad', 'I') \n",
      " Состав группы ('student1', 'student3', 'student2') \n",
      " Зачетная книжка студента (5, 4, 5)\n"
     ]
    }
   ],
   "source": [
    "# Кортеж\n",
    "fam_cor = ('mom','dad','I')\n",
    "group_cor = ('student1','student3','student2')\n",
    "book_cor = (5,4,5)\n",
    "print(' Состав семьи', fam_cor, '\\n',\n",
    "      'Состав группы', group_cor, '\\n',\n",
    "      'Зачетная книжка студента', book_cor)"
   ]
  },
  {
   "cell_type": "code",
   "execution_count": 54,
   "id": "e1eced97",
   "metadata": {},
   "outputs": [
    {
     "name": "stdout",
     "output_type": "stream",
     "text": [
      " Состав семьи {'mom': 'Sveta', 'dad': 'Ivan', 'I': 'Mary'} \n",
      " Состав группы {1: 'student1', 2: 'student3', 3: 'student2'} \n",
      " Зачетная книжка студента {'python': 5, 'math': 4, 'sql': 5}\n"
     ]
    }
   ],
   "source": [
    "# Словарь\n",
    "fam_slov = {'mom':'Sveta','dad':'Ivan','I':'Mary'}\n",
    "group_slov = {1:'student1',2:'student3',3:'student2'}\n",
    "book_slov = {'python':5,'math':4,'sql':5}\n",
    "print(' Состав семьи', fam_slov, '\\n',\n",
    "      'Состав группы', group_slov, '\\n',\n",
    "      'Зачетная книжка студента', book_slov)"
   ]
  },
  {
   "cell_type": "code",
   "execution_count": 55,
   "id": "4530bea0",
   "metadata": {},
   "outputs": [],
   "source": [
    "## Исходная программа\n",
    "A = [3,4,2,1,0,8,9,-1,100,0]\n",
    "min = A.pop()\n",
    "\n",
    "while A:\n",
    "    a = A.pop()\n",
    "    if a < min:\n",
    "        min = a"
   ]
  },
  {
   "cell_type": "markdown",
   "id": "c2e9eb4a",
   "metadata": {},
   "source": [
    "Доработать программу так, чтобы она:\n",
    "1. печатала содержимое всех переменных на каждой итерации цикла,\n",
    "2. искала максимальный элемент списка,\n",
    "3. искала минимальный и максимальный элементы списка,\n",
    "4. определяла порядковые номера этих элементов."
   ]
  },
  {
   "cell_type": "code",
   "execution_count": 59,
   "id": "c6196aa9",
   "metadata": {},
   "outputs": [
    {
     "name": "stdout",
     "output_type": "stream",
     "text": [
      "A: [3, 4, 2, 1, 0, 8, 9, -1, 100]\n",
      "B: [3, 4, 2, 1, 0, 8, 9, -1, 100]\n",
      "maxi: 0\n",
      "mini: 0\n",
      "A: [3, 4, 2, 1, 0, 8, 9, -1]\n",
      "a: 100\n",
      "maxi: 100\n",
      "i_max: 0\n",
      "B: [3, 4, 2, 1, 0, 8, 9, -1]\n",
      "b: 100\n",
      "A: [3, 4, 2, 1, 0, 8, 9]\n",
      "a: -1\n",
      "B: [3, 4, 2, 1, 0, 8, 9]\n",
      "b: -1\n",
      "mini: -1\n",
      "i_min: 1\n",
      "A: [3, 4, 2, 1, 0, 8]\n",
      "a: 9\n",
      "B: [3, 4, 2, 1, 0, 8]\n",
      "b: 9\n",
      "A: [3, 4, 2, 1, 0]\n",
      "a: 8\n",
      "B: [3, 4, 2, 1, 0]\n",
      "b: 8\n",
      "A: [3, 4, 2, 1]\n",
      "a: 0\n",
      "B: [3, 4, 2, 1]\n",
      "b: 0\n",
      "A: [3, 4, 2]\n",
      "a: 1\n",
      "B: [3, 4, 2]\n",
      "b: 1\n",
      "A: [3, 4]\n",
      "a: 2\n",
      "B: [3, 4]\n",
      "b: 2\n",
      "A: [3]\n",
      "a: 4\n",
      "B: [3]\n",
      "b: 4\n",
      "A: []\n",
      "a: 3\n",
      "B: []\n",
      "b: 3\n",
      "Min: -1 на 1 месте\n",
      "Max: 100 на 0 месте\n"
     ]
    }
   ],
   "source": [
    "A = [3,4,2,1,0,8,9,-1,100,0]\n",
    "B = A.copy()\n",
    "maxi = A.pop()\n",
    "mini = B.pop()\n",
    "print(f\"A: {A}\")\n",
    "print(f\"B: {B}\")\n",
    "print(f\"maxi: {maxi}\")\n",
    "print(f\"mini: {mini}\")\n",
    "\n",
    "for i in range(len(A)):\n",
    "    a = A.pop()\n",
    "    print(f\"A: {A}\")\n",
    "    print(f\"a: {a}\")\n",
    "    if a > maxi:\n",
    "        maxi = a\n",
    "        print(f\"maxi: {maxi}\")\n",
    "        i_max = i\n",
    "        print(f\"i_max: {i_max}\")\n",
    "    b = B.pop()\n",
    "    print(f\"B: {B}\")\n",
    "    print(f\"b: {b}\")\n",
    "    if b < mini:\n",
    "        mini = b\n",
    "        print(f\"mini: {mini}\")\n",
    "        i_min = i\n",
    "        print(f\"i_min: {i_min}\")\n",
    "\n",
    "print(\"Min:\", mini, 'на', i_min, 'месте')\n",
    "print(\"Max:\", maxi, 'на', i_max, 'месте')"
   ]
  },
  {
   "cell_type": "code",
   "execution_count": 60,
   "id": "48be9079",
   "metadata": {},
   "outputs": [
    {
     "name": "stdout",
     "output_type": "stream",
     "text": [
      "abcdefghijklmnop\n",
      "bcdefghijklmno\n",
      "cdefghijklmn\n",
      "defghijklm\n",
      "efghijkl\n",
      "fghijk\n",
      "ghij\n",
      "hi\n"
     ]
    }
   ],
   "source": [
    "## Пример из занятия\n",
    "s = 'abcdefghijklmnop'\n",
    "while s != \"\":\n",
    "    print(s)\n",
    "    s = s[1:-1]"
   ]
  },
  {
   "cell_type": "code",
   "execution_count": 61,
   "id": "6fedb565",
   "metadata": {},
   "outputs": [
    {
     "name": "stdout",
     "output_type": "stream",
     "text": [
      "  1  2  3  4  5  6  7  8  9\n",
      "  2  4  6  8 10 12 14 16 18\n",
      "  3  6  9 12 15 18 21 24 27\n",
      "  4  8 12 16 20 24 28 32 36\n",
      "  5 10 15 20 25 30 35 40 45\n",
      "  6 12 18 24 30 36 42 48 54\n",
      "  7 14 21 28 35 42 49 56 63\n",
      "  8 16 24 32 40 48 56 64 72\n",
      "  9 18 27 36 45 54 63 72 81\n"
     ]
    }
   ],
   "source": [
    "## Пример из занятия\n",
    "for i in range(1,10):\n",
    "    for j in range(1,10):\n",
    "        print(\" %2i\" % (i*j), end = '')\n",
    "    print()"
   ]
  },
  {
   "cell_type": "markdown",
   "id": "6fab9d38",
   "metadata": {},
   "source": [
    "Выполните эти задачи в программном режиме.\n",
    "1. Посчитать сумму чисел от 0 до 10\n",
    "2. Произведение их на 2\n",
    "3. Вычислить средний возраст в аудитории\n",
    "\n",
    "Используйте циклы for и while для решения каждой задачи."
   ]
  },
  {
   "cell_type": "markdown",
   "id": "4e4439d7",
   "metadata": {},
   "source": [
    "__Задача 1__"
   ]
  },
  {
   "cell_type": "code",
   "execution_count": 62,
   "id": "06ec91bf",
   "metadata": {},
   "outputs": [
    {
     "name": "stdout",
     "output_type": "stream",
     "text": [
      "Сумма чисел от 0 до 10 (for): 55\n",
      "Сумма чисел от 0 до 10 (while): 55\n"
     ]
    }
   ],
   "source": [
    "s = 0\n",
    "for i in range(0,11):\n",
    "    s += i\n",
    "print(f\"Сумма чисел от 0 до 10 (for): {s}\")\n",
    "\n",
    "s = 0\n",
    "i = 0\n",
    "while i <= 10:\n",
    "    s += i\n",
    "    i += 1\n",
    "print(f\"Сумма чисел от 0 до 10 (while): {s}\")"
   ]
  },
  {
   "cell_type": "markdown",
   "id": "cd86d7d7",
   "metadata": {},
   "source": [
    "__Задача 2__"
   ]
  },
  {
   "cell_type": "code",
   "execution_count": 69,
   "id": "8d812e34",
   "metadata": {},
   "outputs": [
    {
     "name": "stdout",
     "output_type": "stream",
     "text": [
      "for \n",
      "\n",
      "Элементы умноженные на 2: 0\n",
      "Элементы умноженные на 2: 2\n",
      "Элементы умноженные на 2: 4\n",
      "Элементы умноженные на 2: 6\n",
      "Элементы умноженные на 2: 8\n",
      "Элементы умноженные на 2: 10\n",
      "Элементы умноженные на 2: 12\n",
      "Элементы умноженные на 2: 14\n",
      "Элементы умноженные на 2: 16\n",
      "Элементы умноженные на 2: 18\n",
      "Элементы умноженные на 2: 20\n",
      "!!!!Произведение их на 2: 110\n",
      "\n",
      " while \n",
      "\n",
      "Элементы умноженные на 2: 0\n",
      "Элементы умноженные на 2: 2\n",
      "Элементы умноженные на 2: 4\n",
      "Элементы умноженные на 2: 6\n",
      "Элементы умноженные на 2: 8\n",
      "Элементы умноженные на 2: 10\n",
      "Элементы умноженные на 2: 12\n",
      "Элементы умноженные на 2: 14\n",
      "Элементы умноженные на 2: 16\n",
      "Элементы умноженные на 2: 18\n",
      "Элементы умноженные на 2: 20\n",
      "!!!!Произведение их на 2: 110\n"
     ]
    }
   ],
   "source": [
    "print(\"for \\n\")\n",
    "s = 0\n",
    "for i in range(0,11):\n",
    "    s1 = i*2\n",
    "    s += s1\n",
    "    print(f\"Элементы умноженные на 2: {s1}\")\n",
    "print(f\"!!!!Произведение их на 2: {s}\")\n",
    "\n",
    "print(\"\\n while \\n\")\n",
    "s = 0\n",
    "i = 0\n",
    "while i <= 10:\n",
    "    s1 = i*2\n",
    "    s += s1\n",
    "    i += 1\n",
    "    print(f\"Элементы умноженные на 2: {s1}\")\n",
    "print(f\"!!!!Произведение их на 2: {s}\")"
   ]
  },
  {
   "cell_type": "markdown",
   "id": "9f4e6a9c",
   "metadata": {},
   "source": [
    "__Задача 3__"
   ]
  },
  {
   "cell_type": "code",
   "execution_count": 70,
   "id": "976a966a",
   "metadata": {},
   "outputs": [
    {
     "name": "stdout",
     "output_type": "stream",
     "text": [
      "Средний возраст студентов (while): 19.11111111111111\n",
      "Средний возраст студентов (for): 19.11111111111111\n"
     ]
    }
   ],
   "source": [
    "age = [19,18,17,20,21,20,19,19,19]\n",
    "s = 0\n",
    "i = 0\n",
    "while age:\n",
    "    a = age.pop()\n",
    "    i += 1\n",
    "    s += a\n",
    "print(f\"Средний возраст студентов (while): {s/i}\")\n",
    "\n",
    "age = [19,18,17,20,21,20,19,19,19]\n",
    "s = 0\n",
    "i = 0\n",
    "for p in age:\n",
    "    i += 1\n",
    "    s += p\n",
    "print(f\"Средний возраст студентов (for): {s/i}\")"
   ]
  },
  {
   "cell_type": "markdown",
   "id": "7ac61de9",
   "metadata": {
    "heading_collapsed": true
   },
   "source": [
    "### Лабораторная работа 4.2"
   ]
  },
  {
   "cell_type": "markdown",
   "id": "67ff2168",
   "metadata": {
    "hidden": true
   },
   "source": [
    "Выполните эти задачи с помощью numpy:\n",
    "1. Посчитать сумму чисел от 0 до 10.\n",
    "2. Произведение их на 2.\n",
    "3. Вычислить средний возраст в аудитории."
   ]
  },
  {
   "cell_type": "code",
   "execution_count": 71,
   "id": "430c6ce4",
   "metadata": {
    "hidden": true
   },
   "outputs": [],
   "source": [
    "import numpy as np\n",
    "from numpy.random import randint"
   ]
  },
  {
   "cell_type": "markdown",
   "id": "8d5a9ac4",
   "metadata": {
    "hidden": true
   },
   "source": [
    "__Задача 1__"
   ]
  },
  {
   "cell_type": "code",
   "execution_count": 74,
   "id": "b13dcba9",
   "metadata": {
    "hidden": true
   },
   "outputs": [
    {
     "name": "stdout",
     "output_type": "stream",
     "text": [
      "Сумма чисел от 0 до 10 (1 вариант с циклом): 55\n",
      "Сумма чисел от 0 до 10 (2 вариант краткий): 55\n"
     ]
    }
   ],
   "source": [
    "s = 0\n",
    "a = np.arange(11)\n",
    "for i in a:\n",
    "    s += a[i]\n",
    "print(f\"Сумма чисел от 0 до 10 (1 вариант с циклом): {s}\")\n",
    "\n",
    "print(f\"Сумма чисел от 0 до 10 (2 вариант краткий): {sum(np.arange(11))}\")"
   ]
  },
  {
   "cell_type": "markdown",
   "id": "678da07c",
   "metadata": {
    "hidden": true
   },
   "source": [
    "__Задача 2__"
   ]
  },
  {
   "cell_type": "code",
   "execution_count": 76,
   "id": "c9784518",
   "metadata": {
    "hidden": true,
    "scrolled": true
   },
   "outputs": [
    {
     "name": "stdout",
     "output_type": "stream",
     "text": [
      "Произведение их на 2 (1 вариант с циклом): 110\n",
      "Произведение их на 2 (2 вариант краткий): 110\n"
     ]
    }
   ],
   "source": [
    "s = 0\n",
    "a = np.arange(11)\n",
    "for i in a:\n",
    "    s += a[i]*2\n",
    "\n",
    "print(f\"Произведение их на 2 (1 вариант с циклом): {s}\")\n",
    "print(f\"Произведение их на 2 (2 вариант краткий): {sum(np.arange(11))*2}\")"
   ]
  },
  {
   "cell_type": "markdown",
   "id": "6a4eb45a",
   "metadata": {
    "hidden": true
   },
   "source": [
    "__Задача 3__"
   ]
  },
  {
   "cell_type": "code",
   "execution_count": 78,
   "id": "3005a624",
   "metadata": {
    "hidden": true
   },
   "outputs": [
    {
     "data": {
      "text/plain": [
       "array([24, 20, 19, 20, 23, 24, 22, 23, 22, 21])"
      ]
     },
     "execution_count": 78,
     "metadata": {},
     "output_type": "execute_result"
    }
   ],
   "source": [
    "age = np.random.randint(18,25,10)\n",
    "age"
   ]
  },
  {
   "cell_type": "code",
   "execution_count": 79,
   "id": "e42e49fc",
   "metadata": {
    "hidden": true
   },
   "outputs": [
    {
     "name": "stdout",
     "output_type": "stream",
     "text": [
      "Средний возраст студентов (for): 21.8\n"
     ]
    }
   ],
   "source": [
    "print(f\"Средний возраст студентов (for): {np.mean(age)}\")"
   ]
  },
  {
   "cell_type": "markdown",
   "id": "a06e5e31",
   "metadata": {},
   "source": [
    "### Лабораторная работа 4.3"
   ]
  },
  {
   "cell_type": "markdown",
   "id": "20b9463d",
   "metadata": {},
   "source": [
    "1) Установить NumPy любым способом. + лог установки сохранить в файл\n",
    "\n",
    "6) Программу, которая это делает (или jupyter-файл) опубликуйте в гите. Прилодите данный с которыми она работает (csv, txt...)\n",
    "\n",
    "https://gitflic.ru/project/msq/shift_labs"
   ]
  },
  {
   "cell_type": "markdown",
   "id": "d01f6d2d",
   "metadata": {},
   "source": [
    "2) Создать с помощью электронной таблицы матрицу с какими-либо данными (можно использовать готовые данные, но не забывайте об их конфиденциальности!)\n",
    "\n",
    "3) Загрузите данные из электронной таблицы в матрицу numpy"
   ]
  },
  {
   "cell_type": "code",
   "execution_count": 42,
   "id": "d5658450",
   "metadata": {},
   "outputs": [],
   "source": [
    "import numpy as np"
   ]
  },
  {
   "cell_type": "code",
   "execution_count": 46,
   "id": "9cecc07b",
   "metadata": {},
   "outputs": [],
   "source": [
    "data = np.genfromtxt('import_4_3.csv', delimiter=';')"
   ]
  },
  {
   "cell_type": "code",
   "execution_count": 47,
   "id": "16505239",
   "metadata": {},
   "outputs": [
    {
     "data": {
      "text/plain": [
       "array([[1., 2., 4.],\n",
       "       [1., 3., 3.],\n",
       "       [1., 2., 4.],\n",
       "       [1., 3., 5.],\n",
       "       [1., 3., 4.],\n",
       "       [1., 4., 3.],\n",
       "       [1., 3., 5.],\n",
       "       [1., 4., 3.],\n",
       "       [1., 4., 2.],\n",
       "       [1., 5., 4.],\n",
       "       [1., 4., 5.],\n",
       "       [1., 5., 2.],\n",
       "       [1., 5., 4.],\n",
       "       [1., 6., 2.],\n",
       "       [1., 5., 4.],\n",
       "       [1., 6., 5.]])"
      ]
     },
     "execution_count": 47,
     "metadata": {},
     "output_type": "execute_result"
    }
   ],
   "source": [
    "data"
   ]
  },
  {
   "cell_type": "markdown",
   "id": "b10013d1",
   "metadata": {},
   "source": [
    "4) Создайте единичную матрицу размерности, идентичной полученной из электронной таблицы"
   ]
  },
  {
   "cell_type": "code",
   "execution_count": 50,
   "id": "b9d89e25",
   "metadata": {},
   "outputs": [
    {
     "data": {
      "text/plain": [
       "(16, 3)"
      ]
     },
     "execution_count": 50,
     "metadata": {},
     "output_type": "execute_result"
    }
   ],
   "source": [
    "data.shape"
   ]
  },
  {
   "cell_type": "code",
   "execution_count": 51,
   "id": "cf53eedf",
   "metadata": {},
   "outputs": [
    {
     "data": {
      "text/plain": [
       "array([[1., 0., 0.],\n",
       "       [0., 1., 0.],\n",
       "       [0., 0., 1.],\n",
       "       [0., 0., 0.],\n",
       "       [0., 0., 0.],\n",
       "       [0., 0., 0.],\n",
       "       [0., 0., 0.],\n",
       "       [0., 0., 0.],\n",
       "       [0., 0., 0.],\n",
       "       [0., 0., 0.],\n",
       "       [0., 0., 0.],\n",
       "       [0., 0., 0.],\n",
       "       [0., 0., 0.],\n",
       "       [0., 0., 0.],\n",
       "       [0., 0., 0.],\n",
       "       [0., 0., 0.]])"
      ]
     },
     "execution_count": 51,
     "metadata": {},
     "output_type": "execute_result"
    }
   ],
   "source": [
    "data_one = np.eye(16,3)\n",
    "data_one"
   ]
  },
  {
   "cell_type": "markdown",
   "id": "dfeb27d3",
   "metadata": {},
   "source": [
    "5) Перемножьте одно на другое и экспортируйте результат в электронную таблицу"
   ]
  },
  {
   "cell_type": "code",
   "execution_count": 52,
   "id": "b050e7be",
   "metadata": {},
   "outputs": [
    {
     "data": {
      "text/plain": [
       "array([[1., 0., 0.],\n",
       "       [0., 3., 0.],\n",
       "       [0., 0., 4.],\n",
       "       [0., 0., 0.],\n",
       "       [0., 0., 0.],\n",
       "       [0., 0., 0.],\n",
       "       [0., 0., 0.],\n",
       "       [0., 0., 0.],\n",
       "       [0., 0., 0.],\n",
       "       [0., 0., 0.],\n",
       "       [0., 0., 0.],\n",
       "       [0., 0., 0.],\n",
       "       [0., 0., 0.],\n",
       "       [0., 0., 0.],\n",
       "       [0., 0., 0.],\n",
       "       [0., 0., 0.]])"
      ]
     },
     "execution_count": 52,
     "metadata": {},
     "output_type": "execute_result"
    }
   ],
   "source": [
    "fin = data*data_one\n",
    "fin"
   ]
  },
  {
   "cell_type": "code",
   "execution_count": 53,
   "id": "c7961d9f",
   "metadata": {},
   "outputs": [],
   "source": [
    "np.savetxt('output_4_3.csv', fin, delimiter=';')"
   ]
  }
 ],
 "metadata": {
  "kernelspec": {
   "display_name": "Python 3 (ipykernel)",
   "language": "python",
   "name": "python3"
  },
  "language_info": {
   "codemirror_mode": {
    "name": "ipython",
    "version": 3
   },
   "file_extension": ".py",
   "mimetype": "text/x-python",
   "name": "python",
   "nbconvert_exporter": "python",
   "pygments_lexer": "ipython3",
   "version": "3.9.7"
  },
  "varInspector": {
   "cols": {
    "lenName": 16,
    "lenType": 16,
    "lenVar": 40
   },
   "kernels_config": {
    "python": {
     "delete_cmd_postfix": "",
     "delete_cmd_prefix": "del ",
     "library": "var_list.py",
     "varRefreshCmd": "print(var_dic_list())"
    },
    "r": {
     "delete_cmd_postfix": ") ",
     "delete_cmd_prefix": "rm(",
     "library": "var_list.r",
     "varRefreshCmd": "cat(var_dic_list()) "
    }
   },
   "types_to_exclude": [
    "module",
    "function",
    "builtin_function_or_method",
    "instance",
    "_Feature"
   ],
   "window_display": false
  }
 },
 "nbformat": 4,
 "nbformat_minor": 5
}
