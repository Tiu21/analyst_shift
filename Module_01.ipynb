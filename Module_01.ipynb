{
 "cells": [
  {
   "cell_type": "markdown",
   "id": "dfdaabab",
   "metadata": {},
   "source": [
    "## Модуль 01: Теория вероятностей"
   ]
  },
  {
   "cell_type": "markdown",
   "id": "32b461bb",
   "metadata": {
    "heading_collapsed": true
   },
   "source": [
    "### Лабораторная работа 1.1 "
   ]
  },
  {
   "cell_type": "markdown",
   "id": "f87084d0",
   "metadata": {
    "hidden": true
   },
   "source": [
    "1. Подсчитать теоретически вероятность выпадения 6 на второй кости при условии выпадения четного числа на первой\n",
    "2. Проверить расчеты практически, используя воображаемык игральные кости (20 опытов)\n",
    "3. Проверить расчеты практически, используя генератор случайных чисел (20 опытов)\n",
    "\n",
    "Сравнить результаты. Объяснить"
   ]
  },
  {
   "cell_type": "markdown",
   "id": "5880a492",
   "metadata": {
    "hidden": true
   },
   "source": [
    "__1. Теоретичсекое значение__"
   ]
  },
  {
   "cell_type": "code",
   "execution_count": 3,
   "id": "21d31611",
   "metadata": {
    "hidden": true
   },
   "outputs": [
    {
     "data": {
      "text/plain": [
       "0.5"
      ]
     },
     "execution_count": 3,
     "metadata": {},
     "output_type": "execute_result"
    }
   ],
   "source": [
    "# Вероятность выпадения четного числа на первом\n",
    "first = 3/6\n",
    "first"
   ]
  },
  {
   "cell_type": "code",
   "execution_count": 4,
   "id": "d6f30d31",
   "metadata": {
    "hidden": true
   },
   "outputs": [
    {
     "data": {
      "text/plain": [
       "0.16666666666666666"
      ]
     },
     "execution_count": 4,
     "metadata": {},
     "output_type": "execute_result"
    }
   ],
   "source": [
    "# Вероятность выпадения 6 на втором\n",
    "second = 1/6\n",
    "second"
   ]
  },
  {
   "cell_type": "code",
   "execution_count": 5,
   "id": "ff594d3c",
   "metadata": {
    "hidden": true
   },
   "outputs": [
    {
     "data": {
      "text/plain": [
       "0.08333333333333333"
      ]
     },
     "execution_count": 5,
     "metadata": {},
     "output_type": "execute_result"
    }
   ],
   "source": [
    "#Условная (итоговая) вероятность\n",
    "teor = first*second\n",
    "teor"
   ]
  },
  {
   "cell_type": "markdown",
   "id": "74424abb",
   "metadata": {
    "hidden": true
   },
   "source": [
    "__2. Вооброжаемые игральные кости__"
   ]
  },
  {
   "cell_type": "markdown",
   "id": "4601ce53",
   "metadata": {
    "hidden": true
   },
   "source": [
    "Бросок кубика\n",
    "\n",
    "- 1 - 2 4\n",
    "- 2 - 5 4\n",
    "- 3 - 2 4\n",
    "- 4 - 4 2\n",
    "- 5 - 1 6\n",
    "- 6 - 6 3\n",
    "- 7 - 2 1\n",
    "- 8 - 4 2\n",
    "- 9 - 3 5\n",
    "- 10 - 2 3\n",
    "- 11 - 4 4\n",
    "- 12 - 6 4\n",
    "- 13 - 1 5\n",
    "- 14 - 5 5\n",
    "- 15 - 5 6\n",
    "- 16 - 1 5\n",
    "- 17 - 6 6\n",
    "- 18 - 3 5\n",
    "- 19 - 4 6\n",
    "- 20 - 4 4"
   ]
  },
  {
   "cell_type": "code",
   "execution_count": 6,
   "id": "aceec20a",
   "metadata": {
    "hidden": true
   },
   "outputs": [
    {
     "data": {
      "text/plain": [
       "0.1"
      ]
     },
     "execution_count": 6,
     "metadata": {},
     "output_type": "execute_result"
    }
   ],
   "source": [
    "pract1 = 2/20\n",
    "pract1"
   ]
  },
  {
   "cell_type": "code",
   "execution_count": 7,
   "id": "9fb9baad",
   "metadata": {
    "hidden": true
   },
   "outputs": [
    {
     "name": "stdout",
     "output_type": "stream",
     "text": [
      "Разница с теоретической 0.016666666666666677\n"
     ]
    }
   ],
   "source": [
    "print('Разница с теоретической', abs(teor-pract1))"
   ]
  },
  {
   "cell_type": "markdown",
   "id": "4e1a8028",
   "metadata": {
    "hidden": true
   },
   "source": [
    "__3. Генератор случайных чисел__"
   ]
  },
  {
   "cell_type": "code",
   "execution_count": 8,
   "id": "73979881",
   "metadata": {
    "hidden": true
   },
   "outputs": [],
   "source": [
    "from random import randint\n",
    "check = 0\n",
    "\n",
    "for x in range(20):\n",
    "    first = randint(1,6)\n",
    "    if first%2 == 0:\n",
    "        second = randint(1,6)\n",
    "        if second == 6:\n",
    "            check += 1"
   ]
  },
  {
   "cell_type": "code",
   "execution_count": 10,
   "id": "135c22c9",
   "metadata": {
    "hidden": true
   },
   "outputs": [
    {
     "name": "stdout",
     "output_type": "stream",
     "text": [
      " check = 3 \n",
      " Вероятность = 0.15\n"
     ]
    }
   ],
   "source": [
    "pract2_little = check/20\n",
    "print(' check =', check, '\\n', 'Вероятность =', pract2_little)"
   ]
  },
  {
   "cell_type": "code",
   "execution_count": 11,
   "id": "ca1c08cf",
   "metadata": {
    "hidden": true,
    "scrolled": true
   },
   "outputs": [
    {
     "name": "stdout",
     "output_type": "stream",
     "text": [
      "Разница с теоретической 0.06666666666666667\n"
     ]
    }
   ],
   "source": [
    "print('Разница с теоретической', abs(teor-pract2_little))"
   ]
  },
  {
   "cell_type": "markdown",
   "id": "c92956ee",
   "metadata": {
    "hidden": true
   },
   "source": [
    "*Пример на больших данных"
   ]
  },
  {
   "cell_type": "code",
   "execution_count": 12,
   "id": "6079a8c5",
   "metadata": {
    "hidden": true
   },
   "outputs": [],
   "source": [
    "from random import randint\n",
    "check = 0\n",
    "\n",
    "for x in range(2000000):\n",
    "    first = randint(1,6)\n",
    "    if first%2 == 0:\n",
    "        second = randint(1,6)\n",
    "        if second == 6:\n",
    "            check += 1"
   ]
  },
  {
   "cell_type": "code",
   "execution_count": 14,
   "id": "b5397f54",
   "metadata": {
    "hidden": true
   },
   "outputs": [
    {
     "name": "stdout",
     "output_type": "stream",
     "text": [
      " check = 166015 \n",
      " Вероятность = 0.0830075\n"
     ]
    }
   ],
   "source": [
    "pract2_many = check/2000000\n",
    "print(' check =', check, '\\n', 'Вероятность =', pract2_many)"
   ]
  },
  {
   "cell_type": "code",
   "execution_count": 15,
   "id": "26bdb772",
   "metadata": {
    "hidden": true,
    "scrolled": true
   },
   "outputs": [
    {
     "name": "stdout",
     "output_type": "stream",
     "text": [
      "Разница с теоретической 0.00032583333333333075\n"
     ]
    }
   ],
   "source": [
    "print('Разница с теоретической', abs(teor-pract2_many))"
   ]
  },
  {
   "cell_type": "markdown",
   "id": "322489f6",
   "metadata": {
    "hidden": true
   },
   "source": [
    "Теоретическое и практические значения практически идентичны. Точность практических значений относительно теоретического растет от количества экспериментов."
   ]
  },
  {
   "cell_type": "markdown",
   "id": "2be506f8",
   "metadata": {
    "heading_collapsed": true
   },
   "source": [
    "### Лабораторная работа 1.2"
   ]
  },
  {
   "cell_type": "markdown",
   "id": "5c13c759",
   "metadata": {
    "hidden": true
   },
   "source": [
    "1. В урне 20 белых и 10 чёрных шаров. Вынули подряд 4 шара, причём каждый вынутый шар возвращают в урну перед извлечением следующего, и шары в урне перемешивают. Какова вероятность того, что из четырёх вынутых шаров окажется два белых?\n",
    "2. Игральную кость бросили 10 раз. Какова вероятность, что число 3 выпадет два раза?\n",
    "3. Вероятность появления события А равна 0,4. Какова вероятность того, что при 10 испытаниях событие А появится не более трёх раз?"
   ]
  },
  {
   "cell_type": "markdown",
   "id": "38926aa5",
   "metadata": {
    "hidden": true
   },
   "source": [
    "__Задача 1__"
   ]
  },
  {
   "cell_type": "code",
   "execution_count": 17,
   "id": "146f1a23",
   "metadata": {
    "hidden": true
   },
   "outputs": [],
   "source": [
    "m = 2\n",
    "n = 4\n",
    "M = 20\n",
    "N = 30"
   ]
  },
  {
   "cell_type": "code",
   "execution_count": 20,
   "id": "9d180aca",
   "metadata": {
    "hidden": true
   },
   "outputs": [],
   "source": [
    "import math"
   ]
  },
  {
   "cell_type": "code",
   "execution_count": 21,
   "id": "47153c07",
   "metadata": {
    "hidden": true
   },
   "outputs": [
    {
     "name": "stdout",
     "output_type": "stream",
     "text": [
      "Формула Бернулли \n",
      " p = 0.6666666666666666 \n",
      " q = 0.33333333333333337 \n",
      " c = 6.0 \n",
      " Pnm = 0.29629629629629634\n"
     ]
    }
   ],
   "source": [
    "# Формула Бернулли\n",
    "p = M/N\n",
    "q = 1-p\n",
    "c = math.factorial(n)/(math.factorial(m)*math.factorial(n-m))\n",
    "Pnm = c*p**m*q**(n-m)\n",
    "print('Формула Бернулли \\n','p =',p,'\\n','q =',q,'\\n','c =',c,'\\n','Pnm =',Pnm)"
   ]
  },
  {
   "cell_type": "code",
   "execution_count": 22,
   "id": "4c226f83",
   "metadata": {
    "hidden": true
   },
   "outputs": [
    {
     "name": "stdout",
     "output_type": "stream",
     "text": [
      "Формула Лапласа \n",
      " p = 0.6666666666666666 \n",
      " q = 0.33333333333333337 \n",
      " x = -0.7071067811865474 \n",
      " f = 0.31069656037692783 \n",
      " Pnm = 0.32954346710079185\n"
     ]
    }
   ],
   "source": [
    "# Формула Лапласа\n",
    "p = M/N\n",
    "q = 1-p\n",
    "x = (m-n*p)/(math.sqrt(n*p*q))\n",
    "f = (1/(math.sqrt(2*math.pi)))*math.exp((-x**2)/2)\n",
    "Pnm = (1/(math.sqrt(n*p*q)))*f\n",
    "print('Формула Лапласа \\n','p =',p,'\\n','q =',q,'\\n','x =',x,'\\n','f =',f,'\\n','Pnm =',Pnm)"
   ]
  },
  {
   "cell_type": "code",
   "execution_count": 23,
   "id": "c55fd363",
   "metadata": {
    "hidden": true
   },
   "outputs": [
    {
     "name": "stdout",
     "output_type": "stream",
     "text": [
      "Формула Пуассона \n",
      " p = 0.6666666666666666 \n",
      " lymbda = 2.6666666666666665 \n",
      " Pnm = 0.020587689251200456\n"
     ]
    }
   ],
   "source": [
    "# Формула Пуассона\n",
    "p = M/N\n",
    "lymbda = n*p\n",
    "Pnm = ((lymbda**m)/(math.factorial(n)))*math.exp(-lymbda)\n",
    "print('Формула Пуассона \\n','p =',p,'\\n','lymbda =',lymbda,'\\n','Pnm =',Pnm)"
   ]
  },
  {
   "cell_type": "markdown",
   "id": "75a338a9",
   "metadata": {
    "hidden": true
   },
   "source": [
    "__Задача 2__"
   ]
  },
  {
   "cell_type": "code",
   "execution_count": 24,
   "id": "4eddd446",
   "metadata": {
    "hidden": true
   },
   "outputs": [],
   "source": [
    "m = 2\n",
    "n = 10\n",
    "M = 1\n",
    "N = 6"
   ]
  },
  {
   "cell_type": "code",
   "execution_count": 25,
   "id": "3321e903",
   "metadata": {
    "hidden": true
   },
   "outputs": [
    {
     "name": "stdout",
     "output_type": "stream",
     "text": [
      "Формула Бернулли \n",
      " p = 0.16666666666666666 \n",
      " q = 0.8333333333333334 \n",
      " c = 45.0 \n",
      " Pnm = 0.2907100492017224\n"
     ]
    }
   ],
   "source": [
    "# Формула Бернулли\n",
    "p = M/N\n",
    "q = 1-p\n",
    "c = math.factorial(n)/(math.factorial(m)*math.factorial(n-m))\n",
    "Pnm = c*p**m*q**(n-m)\n",
    "print('Формула Бернулли \\n','p =',p,'\\n','q =',q,'\\n','c =',c,'\\n','Pnm =',Pnm)"
   ]
  },
  {
   "cell_type": "code",
   "execution_count": 26,
   "id": "a42da9b4",
   "metadata": {
    "hidden": true
   },
   "outputs": [
    {
     "name": "stdout",
     "output_type": "stream",
     "text": [
      "Формула Лапласа \n",
      " p = 0.16666666666666666 \n",
      " q = 0.8333333333333334 \n",
      " x = 0.2828427124746191 \n",
      " f = 0.3832995298410414 \n",
      " Pnm = 0.3252404361314589\n"
     ]
    }
   ],
   "source": [
    "# Формула Лапласа\n",
    "p = M/N\n",
    "q = 1-p\n",
    "x = (m-n*p)/(math.sqrt(n*p*q))\n",
    "f = (1/(math.sqrt(2*math.pi)))*math.exp((-x**2)/2)\n",
    "Pnm = (1/(math.sqrt(n*p*q)))*f\n",
    "print('Формула Лапласа \\n','p =',p,'\\n','q =',q,'\\n','x =',x,'\\n','f =',f,'\\n','Pnm =',Pnm)"
   ]
  },
  {
   "cell_type": "code",
   "execution_count": 27,
   "id": "b4f3ee80",
   "metadata": {
    "hidden": true
   },
   "outputs": [
    {
     "name": "stdout",
     "output_type": "stream",
     "text": [
      "Формула Пуассона \n",
      " p = 0.16666666666666666 \n",
      " lymbda = 1.6666666666666665 \n",
      " Pnm = 1.4458070225048519e-07\n"
     ]
    }
   ],
   "source": [
    "# Формула Пуассона\n",
    "p = M/N\n",
    "lymbda = n*p\n",
    "Pnm = ((lymbda**m)/(math.factorial(n)))*math.exp(-lymbda)\n",
    "print('Формула Пуассона \\n','p =',p,'\\n','lymbda =',lymbda,'\\n','Pnm =',Pnm)"
   ]
  },
  {
   "cell_type": "markdown",
   "id": "c026bc3d",
   "metadata": {
    "hidden": true
   },
   "source": [
    "__Задача 3__"
   ]
  },
  {
   "cell_type": "code",
   "execution_count": 28,
   "id": "d0994b38",
   "metadata": {
    "hidden": true
   },
   "outputs": [],
   "source": [
    "m = 3\n",
    "n = 10\n",
    "p = 0.4"
   ]
  },
  {
   "cell_type": "code",
   "execution_count": 29,
   "id": "d44336af",
   "metadata": {
    "hidden": true
   },
   "outputs": [
    {
     "name": "stdout",
     "output_type": "stream",
     "text": [
      "Формула Бернулли \n",
      " p = 0.4 \n",
      " q = 0.6 \n",
      " c = 120.0 \n",
      " Pnm = 0.21499084799999998\n"
     ]
    }
   ],
   "source": [
    "# Формула Бернулли\n",
    "q = 1-p\n",
    "c = math.factorial(n)/(math.factorial(m)*math.factorial(n-m))\n",
    "Pnm = c*p**m*q**(n-m)\n",
    "print('Формула Бернулли \\n','p =',p,'\\n','q =',q,'\\n','c =',c,'\\n','Pnm =',Pnm)"
   ]
  },
  {
   "cell_type": "code",
   "execution_count": 30,
   "id": "8aeb9635",
   "metadata": {
    "hidden": true
   },
   "outputs": [
    {
     "name": "stdout",
     "output_type": "stream",
     "text": [
      "Формула Лапласа \n",
      " p = 0.4 \n",
      " q = 0.6 \n",
      " x = -0.6454972243679028 \n",
      " f = 0.3239157374741414 \n",
      " Pnm = 0.20908670946864052\n"
     ]
    }
   ],
   "source": [
    "# Формула Лапласа\n",
    "q = 1-p\n",
    "x = (m-n*p)/(math.sqrt(n*p*q))\n",
    "f = (1/(math.sqrt(2*math.pi)))*math.exp((-x**2)/2)\n",
    "Pnm = (1/(math.sqrt(n*p*q)))*f\n",
    "print('Формула Лапласа \\n','p =',p,'\\n','q =',q,'\\n','x =',x,'\\n','f =',f,'\\n','Pnm =',Pnm)"
   ]
  },
  {
   "cell_type": "code",
   "execution_count": 31,
   "id": "1f702b77",
   "metadata": {
    "hidden": true
   },
   "outputs": [
    {
     "name": "stdout",
     "output_type": "stream",
     "text": [
      "Формула Пуассона \n",
      " p = 0.4 \n",
      " lymbda = 4.0 \n",
      " Pnm (по таблице) = 0.005292\n"
     ]
    }
   ],
   "source": [
    "# Формула Пуассона\n",
    "lymbda = n*p\n",
    "Pnm = ((lymbda**m)/(math.factorial(n)))*math.exp(-lymbda)\n",
    "print('Формула Пуассона \\n','p =',p,'\\n','lymbda =',lymbda,'\\n','Pnm (по таблице) = 0.005292')"
   ]
  },
  {
   "cell_type": "markdown",
   "id": "164d1514",
   "metadata": {},
   "source": [
    "### Лабораторная работа 1.3"
   ]
  },
  {
   "cell_type": "markdown",
   "id": "e25e4deb",
   "metadata": {},
   "source": [
    "1. Воспользовавшись игральными костями (4 шт) получить ряды из 10, 20 и 50 случайных величин, равных сумме выпавших очков (4-24).\n",
    "2. Построить графики функций распределения.\n",
    "3. Объяснить свойства этих графиков."
   ]
  },
  {
   "cell_type": "markdown",
   "id": "ba6f6e5d",
   "metadata": {},
   "source": [
    "__Ряд из 10__"
   ]
  },
  {
   "cell_type": "code",
   "execution_count": 32,
   "id": "a1d5b130",
   "metadata": {},
   "outputs": [],
   "source": [
    "n = 10"
   ]
  },
  {
   "cell_type": "code",
   "execution_count": 33,
   "id": "45b7a0c4",
   "metadata": {},
   "outputs": [],
   "source": [
    "from random import randint\n",
    "X = [0] * n\n",
    "\n",
    "for f in range(n):\n",
    "    x = randint(4,24)\n",
    "    X[f] += x"
   ]
  },
  {
   "cell_type": "code",
   "execution_count": 34,
   "id": "f878a50c",
   "metadata": {},
   "outputs": [
    {
     "data": {
      "text/plain": [
       "[6, 8, 11, 12, 13, 13, 14, 16, 19, 20]"
      ]
     },
     "execution_count": 34,
     "metadata": {},
     "output_type": "execute_result"
    }
   ],
   "source": [
    "X.sort()\n",
    "X"
   ]
  },
  {
   "cell_type": "code",
   "execution_count": 35,
   "id": "8873d864",
   "metadata": {
    "scrolled": true
   },
   "outputs": [
    {
     "data": {
      "text/plain": [
       "[<matplotlib.lines.Line2D at 0x294859e2610>]"
      ]
     },
     "execution_count": 35,
     "metadata": {},
     "output_type": "execute_result"
    },
    {
     "data": {
      "image/png": "[encoded data removed]",
      "text/plain": [
       "<Figure size 432x288 with 1 Axes>"
      ]
     },
     "metadata": {
      "needs_background": "light"
     },
     "output_type": "display_data"
    }
   ],
   "source": [
    "import matplotlib.pyplot as plt\n",
    "plt.plot(range(len(X)), X)"
   ]
  },
  {
   "cell_type": "markdown",
   "id": "8c6db0b0",
   "metadata": {},
   "source": [
    "__Ряд из 20__"
   ]
  },
  {
   "cell_type": "code",
   "execution_count": 36,
   "id": "b41aebab",
   "metadata": {},
   "outputs": [],
   "source": [
    "n = 20"
   ]
  },
  {
   "cell_type": "code",
   "execution_count": 37,
   "id": "9b0e1f1d",
   "metadata": {},
   "outputs": [],
   "source": [
    "from random import randint\n",
    "X = [0] * n\n",
    "\n",
    "for f in range(n):\n",
    "    x = randint(4,24)\n",
    "    X[f] += x"
   ]
  },
  {
   "cell_type": "code",
   "execution_count": 38,
   "id": "1a3bb0e3",
   "metadata": {},
   "outputs": [
    {
     "data": {
      "text/plain": [
       "[6, 7, 8, 9, 11, 13, 14, 14, 15, 17, 17, 19, 20, 21, 21, 22, 22, 23, 23, 24]"
      ]
     },
     "execution_count": 38,
     "metadata": {},
     "output_type": "execute_result"
    }
   ],
   "source": [
    "X.sort()\n",
    "X"
   ]
  },
  {
   "cell_type": "code",
   "execution_count": 39,
   "id": "01679638",
   "metadata": {},
   "outputs": [
    {
     "data": {
      "text/plain": [
       "[<matplotlib.lines.Line2D at 0x2948619bc40>]"
      ]
     },
     "execution_count": 39,
     "metadata": {},
     "output_type": "execute_result"
    },
    {
     "data": {
      "image/png": "[encoded data removed]",
      "text/plain": [
       "<Figure size 432x288 with 1 Axes>"
      ]
     },
     "metadata": {
      "needs_background": "light"
     },
     "output_type": "display_data"
    }
   ],
   "source": [
    "import matplotlib.pyplot as plt\n",
    "plt.plot(range(len(X)), X)"
   ]
  },
  {
   "cell_type": "markdown",
   "id": "d7e79e81",
   "metadata": {},
   "source": [
    "__Ряд из 50__"
   ]
  },
  {
   "cell_type": "code",
   "execution_count": 40,
   "id": "ae65501d",
   "metadata": {},
   "outputs": [],
   "source": [
    "n = 50"
   ]
  },
  {
   "cell_type": "code",
   "execution_count": 41,
   "id": "2dd38a57",
   "metadata": {},
   "outputs": [],
   "source": [
    "from random import randint\n",
    "X = [0] * n\n",
    "\n",
    "for f in range(n):\n",
    "    x = randint(4,24)\n",
    "    X[f] += x"
   ]
  },
  {
   "cell_type": "code",
   "execution_count": 42,
   "id": "665862e0",
   "metadata": {},
   "outputs": [],
   "source": [
    "X.sort()"
   ]
  },
  {
   "cell_type": "code",
   "execution_count": 43,
   "id": "81eeb542",
   "metadata": {},
   "outputs": [
    {
     "data": {
      "text/plain": [
       "[<matplotlib.lines.Line2D at 0x29486217a90>]"
      ]
     },
     "execution_count": 43,
     "metadata": {},
     "output_type": "execute_result"
    },
    {
     "data": {
      "image/png": "[encoded data removed]",
      "text/plain": [
       "<Figure size 432x288 with 1 Axes>"
      ]
     },
     "metadata": {
      "needs_background": "light"
     },
     "output_type": "display_data"
    }
   ],
   "source": [
    "import matplotlib.pyplot as plt\n",
    "plt.plot(range(len(X)), X)"
   ]
  },
  {
   "cell_type": "markdown",
   "id": "7bdb5f02",
   "metadata": {},
   "source": [
    "__Ответ преподователя__"
   ]
  },
  {
   "cell_type": "code",
   "execution_count": 44,
   "id": "0f1a3e2f",
   "metadata": {},
   "outputs": [
    {
     "data": {
      "text/plain": [
       "[<matplotlib.lines.Line2D at 0x2948628e520>]"
      ]
     },
     "execution_count": 44,
     "metadata": {},
     "output_type": "execute_result"
    },
    {
     "data": {
      "image/png": "[encoded data removed]",
      "text/plain": [
       "<Figure size 432x288 with 1 Axes>"
      ]
     },
     "metadata": {
      "needs_background": "light"
     },
     "output_type": "display_data"
    }
   ],
   "source": [
    "N = 10\n",
    "R = []\n",
    "\n",
    "for i in range(N):\n",
    "    r = randint(1,6)\n",
    "    r += randint(1,6)\n",
    "    r += randint(1,6)\n",
    "    r += randint(1,6)\n",
    "    R += [r]\n",
    "    \n",
    "X = []\n",
    "for x in range(4,25):\n",
    "    n = 0\n",
    "    for r in R:\n",
    "        n += r < x\n",
    "    X += [n]\n",
    "    \n",
    "fig = plt.figure(f\"{n} бросков\")\n",
    "plt.plot(range(len(X)), X)"
   ]
  },
  {
   "cell_type": "markdown",
   "id": "7e10bd79",
   "metadata": {},
   "source": [
    "Графики близки к нормальному распределению"
   ]
  },
  {
   "cell_type": "markdown",
   "id": "97edaa48",
   "metadata": {},
   "source": [
    "### Лабораторная работа 1.4"
   ]
  },
  {
   "cell_type": "markdown",
   "id": "23bc79c8",
   "metadata": {},
   "source": [
    "1. Воспользовавшись игральными костями (3 шт) получить ряд из 100 случайных величин, равных сумме выпавших очков (3-18).\n",
    "2. Посчитать:\n",
    "    - матожидание,\n",
    "    - моду,\n",
    "    - дисперсию полученных чисел.\n",
    "3. Объяснить, случайной величиной какого рода является сумма очков на 3-х игральных костях."
   ]
  },
  {
   "cell_type": "code",
   "execution_count": 45,
   "id": "edbe37cd",
   "metadata": {},
   "outputs": [
    {
     "data": {
      "text/plain": [
       "[<matplotlib.lines.Line2D at 0x294862f5910>]"
      ]
     },
     "execution_count": 45,
     "metadata": {},
     "output_type": "execute_result"
    },
    {
     "data": {
      "image/png": "[encoded data removed]",
      "text/plain": [
       "<Figure size 432x288 with 1 Axes>"
      ]
     },
     "metadata": {
      "needs_background": "light"
     },
     "output_type": "display_data"
    }
   ],
   "source": [
    "from random import randint\n",
    "import matplotlib.pyplot as plt\n",
    "\n",
    "N = 100\n",
    "R = []\n",
    "\n",
    "for i in range(N):\n",
    "    r = randint(1,6)\n",
    "    r += randint(1,6)\n",
    "    r += randint(1,6)\n",
    "    R += [r]\n",
    "    \n",
    "X = []\n",
    "for x in range(3,19):\n",
    "    n = 0\n",
    "    for r in R:\n",
    "        n += r < x\n",
    "    X += [n]\n",
    "    \n",
    "plt.plot(range(len(X)), X)"
   ]
  },
  {
   "cell_type": "code",
   "execution_count": 46,
   "id": "41460b86",
   "metadata": {},
   "outputs": [
    {
     "name": "stdout",
     "output_type": "stream",
     "text": [
      " Матожидание = 10.1 \n",
      " Мода = ModeResult(mode=array([10]), count=array([19])) \n",
      " Дисперсия = 6.509999999999999\n"
     ]
    }
   ],
   "source": [
    "from scipy import stats\n",
    "\n",
    "Mediana = np.mean(R)\n",
    "Moda = stats.mode(R)\n",
    "Dispersia = np.var(R)\n",
    "print(\" Матожидание =\", Mediana, \"\\n\", \"Мода =\", Moda, \"\\n\", \"Дисперсия =\", Dispersia)"
   ]
  },
  {
   "cell_type": "markdown",
   "id": "939095b8",
   "metadata": {},
   "source": [
    "Дискретная случайная величина"
   ]
  }
 ],
 "metadata": {
  "kernelspec": {
   "display_name": "Python 3 (ipykernel)",
   "language": "python",
   "name": "python3"
  },
  "language_info": {
   "codemirror_mode": {
    "name": "ipython",
    "version": 3
   },
   "file_extension": ".py",
   "mimetype": "text/x-python",
   "name": "python",
   "nbconvert_exporter": "python",
   "pygments_lexer": "ipython3",
   "version": "3.9.7"
  },
  "varInspector": {
   "cols": {
    "lenName": 16,
    "lenType": 16,
    "lenVar": 40
   },
   "kernels_config": {
    "python": {
     "delete_cmd_postfix": "",
     "delete_cmd_prefix": "del ",
     "library": "var_list.py",
     "varRefreshCmd": "print(var_dic_list())"
    },
    "r": {
     "delete_cmd_postfix": ") ",
     "delete_cmd_prefix": "rm(",
     "library": "var_list.r",
     "varRefreshCmd": "cat(var_dic_list()) "
    }
   },
   "types_to_exclude": [
    "module",
    "function",
    "builtin_function_or_method",
    "instance",
    "_Feature"
   ],
   "window_display": false
  }
 },
 "nbformat": 4,
 "nbformat_minor": 5
}
