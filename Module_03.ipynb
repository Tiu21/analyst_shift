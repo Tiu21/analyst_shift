{
 "cells": [
  {
   "cell_type": "markdown",
   "id": "b199b9b6",
   "metadata": {},
   "source": [
    "## Модуль 03: Основы работы с Git"
   ]
  },
  {
   "cell_type": "markdown",
   "id": "cf6edc69",
   "metadata": {},
   "source": [
    "### Лабораторная работа"
   ]
  },
  {
   "cell_type": "markdown",
   "id": "2edc58a3",
   "metadata": {},
   "source": [
    "Копирование репрозитория c GitHub"
   ]
  },
  {
   "cell_type": "markdown",
   "id": "5f6d0e29",
   "metadata": {},
   "source": [
    "https://github.com/Tiu21/Pick-s-theorem"
   ]
  }
 ],
 "metadata": {
  "kernelspec": {
   "display_name": "Python 3 (ipykernel)",
   "language": "python",
   "name": "python3"
  },
  "language_info": {
   "codemirror_mode": {
    "name": "ipython",
    "version": 3
   },
   "file_extension": ".py",
   "mimetype": "text/x-python",
   "name": "python",
   "nbconvert_exporter": "python",
   "pygments_lexer": "ipython3",
   "version": "3.9.7"
  },
  "varInspector": {
   "cols": {
    "lenName": 16,
    "lenType": 16,
    "lenVar": 40
   },
   "kernels_config": {
    "python": {
     "delete_cmd_postfix": "",
     "delete_cmd_prefix": "del ",
     "library": "var_list.py",
     "varRefreshCmd": "print(var_dic_list())"
    },
    "r": {
     "delete_cmd_postfix": ") ",
     "delete_cmd_prefix": "rm(",
     "library": "var_list.r",
     "varRefreshCmd": "cat(var_dic_list()) "
    }
   },
   "types_to_exclude": [
    "module",
    "function",
    "builtin_function_or_method",
    "instance",
    "_Feature"
   ],
   "window_display": false
  }
 },
 "nbformat": 4,
 "nbformat_minor": 5
}
