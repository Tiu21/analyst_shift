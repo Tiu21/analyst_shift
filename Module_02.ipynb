{
 "cells": [
  {
   "cell_type": "markdown",
   "id": "82de5bc6",
   "metadata": {},
   "source": [
    "## Модуль 02: Математическая статистика"
   ]
  },
  {
   "cell_type": "markdown",
   "id": "3cdb2fff",
   "metadata": {
    "heading_collapsed": true
   },
   "source": [
    "### Лабораторная работа 2.1."
   ]
  },
  {
   "cell_type": "markdown",
   "id": "f2f6ae9d",
   "metadata": {
    "hidden": true
   },
   "source": [
    "1. Произвести ряд из 20 измерений какого-либо параметра:\n",
    "    - число машин на стоянке определенного цвета,\n",
    "    - высота предметов на столе,\n",
    "    - температура воздуха за месяц.\n",
    "2. Построить гистограмму и кумуляту."
   ]
  },
  {
   "cell_type": "code",
   "execution_count": 99,
   "id": "406eb7fe",
   "metadata": {
    "hidden": true
   },
   "outputs": [
    {
     "data": {
      "text/plain": [
       "[5, 3, 6, 3, 1, 0, 3, 0, 2, 3, 3, 4, 4, 6, 7, 8, 6, 4, 3, 8]"
      ]
     },
     "execution_count": 99,
     "metadata": {},
     "output_type": "execute_result"
    }
   ],
   "source": [
    "# Температура за первые 20 дней марта 2024 года\n",
    "X = [5,3,6,3,1,0,3,0,2,3,3,4,4,6,7,8,6,4,3,8]\n",
    "X"
   ]
  },
  {
   "cell_type": "code",
   "execution_count": 100,
   "id": "b7d964c5",
   "metadata": {
    "hidden": true
   },
   "outputs": [
    {
     "data": {
      "text/plain": [
       "(array([2, 1, 1, 6, 0, 3, 1, 3, 1, 2], dtype=int64),\n",
       " array([0. , 0.8, 1.6, 2.4, 3.2, 4. , 4.8, 5.6, 6.4, 7.2, 8. ]))"
      ]
     },
     "execution_count": 100,
     "metadata": {},
     "output_type": "execute_result"
    }
   ],
   "source": [
    "np.histogram(X)"
   ]
  },
  {
   "cell_type": "code",
   "execution_count": 101,
   "id": "f39e4a14",
   "metadata": {
    "hidden": true
   },
   "outputs": [
    {
     "data": {
      "image/png": "[encoded data removed]",
      "text/plain": [
       "<Figure size 432x288 with 1 Axes>"
      ]
     },
     "metadata": {
      "needs_background": "light"
     },
     "output_type": "display_data"
    }
   ],
   "source": [
    "# Гистограмма\n",
    "import matplotlib.pyplot as plt\n",
    "plt.hist(X)\n",
    "plt.show()"
   ]
  },
  {
   "cell_type": "code",
   "execution_count": 102,
   "id": "87f08250",
   "metadata": {
    "hidden": true
   },
   "outputs": [
    {
     "data": {
      "text/plain": [
       "array([ 5,  8, 14, 17, 18, 18, 21, 21, 23, 26, 29, 33, 37, 43, 50, 58, 64,\n",
       "       68, 71, 79], dtype=int32)"
      ]
     },
     "execution_count": 102,
     "metadata": {},
     "output_type": "execute_result"
    }
   ],
   "source": [
    "np.cumsum(X)"
   ]
  },
  {
   "cell_type": "code",
   "execution_count": 104,
   "id": "f9bebffc",
   "metadata": {
    "hidden": true
   },
   "outputs": [
    {
     "data": {
      "image/png": "[encoded data removed]",
      "text/plain": [
       "<Figure size 432x288 with 1 Axes>"
      ]
     },
     "metadata": {
      "needs_background": "light"
     },
     "output_type": "display_data"
    }
   ],
   "source": [
    "# Кумулянта \n",
    "plt.plot(range(len(X)), np.cumsum(X))\n",
    "plt.show()"
   ]
  },
  {
   "cell_type": "code",
   "execution_count": 103,
   "id": "4feaf094",
   "metadata": {
    "hidden": true
   },
   "outputs": [
    {
     "data": {
      "image/png": "[encoded data removed]",
      "text/plain": [
       "<Figure size 432x288 with 1 Axes>"
      ]
     },
     "metadata": {
      "needs_background": "light"
     },
     "output_type": "display_data"
    }
   ],
   "source": [
    "# Кумулянта \n",
    "plt.plot(range(len(X)), np.sort(X))\n",
    "plt.show()"
   ]
  },
  {
   "cell_type": "markdown",
   "id": "f86b10d8",
   "metadata": {
    "heading_collapsed": true
   },
   "source": [
    "### Лабораторная работа 2.2."
   ]
  },
  {
   "cell_type": "markdown",
   "id": "8eca3fc6",
   "metadata": {
    "hidden": true
   },
   "source": [
    "1. Определить значение некоторого параметра: \n",
    "    - возраст сотрудников,\n",
    "    - оценочная стоимость авто на парковки при помощи nomerogramm,\n",
    "    - число дождливых дней в месяце по данным meteoinfo.ru\n",
    "2. Посчитать числовые характеристики выборки."
   ]
  },
  {
   "cell_type": "code",
   "execution_count": 142,
   "id": "c440b071",
   "metadata": {
    "hidden": true
   },
   "outputs": [],
   "source": [
    "# Число дождливых дней за 2023 года Санкт-Петербург\n",
    "rain1 = [11, 9, 8, 4, 0, 5, 9, 8, 6, 6, 10, 11]\n",
    "rain2 = np.array(rain1)"
   ]
  },
  {
   "cell_type": "code",
   "execution_count": 158,
   "id": "be7ca4bb",
   "metadata": {
    "hidden": true
   },
   "outputs": [
    {
     "data": {
      "image/png": "[encoded data removed]",
      "text/plain": [
       "<Figure size 432x288 with 1 Axes>"
      ]
     },
     "metadata": {
      "needs_background": "light"
     },
     "output_type": "display_data"
    }
   ],
   "source": [
    "import matplotlib.pyplot as plt\n",
    "plt.hist(rain2)\n",
    "plt.show()"
   ]
  },
  {
   "cell_type": "code",
   "execution_count": 143,
   "id": "eb15e2ba",
   "metadata": {
    "hidden": true
   },
   "outputs": [],
   "source": [
    "import math\n",
    "from scipy import stats"
   ]
  },
  {
   "cell_type": "code",
   "execution_count": 144,
   "id": "9cc2db54",
   "metadata": {
    "hidden": true
   },
   "outputs": [
    {
     "name": "stdout",
     "output_type": "stream",
     "text": [
      "Арифметическое среднее ('в ручную'): 7.25\n",
      "Арифметическое среднее (библиотека): 7.25\n"
     ]
    }
   ],
   "source": [
    "# Арифметическое среднее\n",
    "arif_s1 = sum(rain1)/len(rain1)\n",
    "arif_s2 = np.mean(rain2)\n",
    "\n",
    "print(f\"Арифметическое среднее ('в ручную'): {arif_s1}\")\n",
    "print(f\"Арифметическое среднее (библиотека): {arif_s2}\")"
   ]
  },
  {
   "cell_type": "code",
   "execution_count": 145,
   "id": "9efe9d25",
   "metadata": {
    "hidden": true
   },
   "outputs": [
    {
     "name": "stdout",
     "output_type": "stream",
     "text": [
      "Геометрическое среднее ('в ручную'): 0.0\n",
      "Геометрическое среднее (библиотека): 0.0\n"
     ]
    }
   ],
   "source": [
    "# Геометрическое среднее\n",
    "geom_s1 = math.prod(rain1) ** (1/len(rain1))\n",
    "geom_s2 = stats.gmean(rain2)\n",
    "\n",
    "print(f\"Геометрическое среднее ('в ручную'): {geom_s1}\")\n",
    "print(f\"Геометрическое среднее (библиотека): {geom_s2}\")"
   ]
  },
  {
   "cell_type": "code",
   "execution_count": 148,
   "id": "2935194e",
   "metadata": {
    "hidden": true
   },
   "outputs": [
    {
     "name": "stdout",
     "output_type": "stream",
     "text": [
      "Гармоническое среднее (библиотека): 0.0\n"
     ]
    }
   ],
   "source": [
    "# Гармоническое среднее\n",
    "# garm_s1 = len(rain1) / sum(1/x for x in rain1) # деление на 0\n",
    "garm_s2 = stats.hmean(rain2)\n",
    "\n",
    "# print(f\"Гармоническое среднее ('в ручную'): {garm_s1}\")\n",
    "print(f\"Гармоническое среднее (библиотека): {garm_s2}\")"
   ]
  },
  {
   "cell_type": "code",
   "execution_count": 151,
   "id": "2395ee99",
   "metadata": {
    "hidden": true
   },
   "outputs": [
    {
     "name": "stdout",
     "output_type": "stream",
     "text": [
      "Квадратическое среднее ('в ручную'): 7.879297769048542\n",
      "Квадратическое среднее (библиотека): 7.879297769048542\n"
     ]
    }
   ],
   "source": [
    "# Квадратическое среднее\n",
    "qwad_s1 = math.sqrt(sum(x**2 for x in rain1)/len(rain1))\n",
    "qwad_s2 = np.sqrt(np.mean(rain2 ** 2))\n",
    "\n",
    "print(f\"Квадратическое среднее ('в ручную'): {qwad_s1}\")\n",
    "print(f\"Квадратическое среднее (библиотека): {qwad_s2}\")"
   ]
  },
  {
   "cell_type": "code",
   "execution_count": 152,
   "id": "afc78577",
   "metadata": {
    "hidden": true
   },
   "outputs": [
    {
     "name": "stdout",
     "output_type": "stream",
     "text": [
      "Кубическое среднее ('в ручную'): 8.260928278518024\n",
      "Кубическое среднее (библиотека): 8.260928278518024\n"
     ]
    }
   ],
   "source": [
    "# Кубическое среднее\n",
    "qub_s1 = (sum(x**3 for x in rain)/len(rain)) ** (1/3)\n",
    "qub_s2 = np.cbrt(np.mean(rain ** 3))\n",
    "\n",
    "print(f\"Кубическое среднее ('в ручную'): {qub_s1}\")\n",
    "print(f\"Кубическое среднее (библиотека): {qub_s2}\")"
   ]
  },
  {
   "cell_type": "code",
   "execution_count": 137,
   "id": "d59f1802",
   "metadata": {
    "hidden": true
   },
   "outputs": [
    {
     "name": "stdout",
     "output_type": "stream",
     "text": [
      "Медиана: 8.0\n"
     ]
    }
   ],
   "source": [
    "# Медиана\n",
    "mediana = np.median(rain)\n",
    "print(f\"Медиана: {mediana}\")"
   ]
  },
  {
   "cell_type": "code",
   "execution_count": 157,
   "id": "e682ad0a",
   "metadata": {
    "hidden": true
   },
   "outputs": [
    {
     "name": "stdout",
     "output_type": "stream",
     "text": [
      "Доверительный интервал: (7.194145091544014, 7.305854908455986)\n"
     ]
    }
   ],
   "source": [
    "#Доверительный интервал\n",
    "alpha = 0.05 #уровень значимости\n",
    "mean = np.mean(rain2) #среднее значение\n",
    "sigma = np.std(rain2) #стандартное отклонение\n",
    "n = 12 #размер выборки\n",
    "Ci = stats.norm.interval(alpha, loc=mean, scale=sigma/np.sqrt(n))\n",
    "print(f\"Доверительный интервал: {Ci}\")"
   ]
  },
  {
   "cell_type": "markdown",
   "id": "d150d83c",
   "metadata": {
    "heading_collapsed": true
   },
   "source": [
    "### Лабораторная работа 2.3."
   ]
  },
  {
   "cell_type": "markdown",
   "id": "03cb8393",
   "metadata": {
    "hidden": true
   },
   "source": [
    "Некто утверждает, что в городе N в месяц 10 дождливых дней. Вы с ним несогласны, и утверждаете, что не более 7.\n",
    "\n",
    "Провести проверку гипотезы, взяв данные за 10 случайных месяцев в этом городе на сайте с архивом погоды.\n",
    "\n",
    "Определить среднее m и дисперсию D этой выборки."
   ]
  },
  {
   "cell_type": "markdown",
   "id": "76aa9466",
   "metadata": {
    "hidden": true
   },
   "source": [
    "Этапы проверки параметрической статистической гипотезы с помощью критерия значимости:"
   ]
  },
  {
   "cell_type": "code",
   "execution_count": 9,
   "id": "23c2a71d",
   "metadata": {
    "hidden": true
   },
   "outputs": [],
   "source": [
    "from scipy.stats import norm\n",
    "import math"
   ]
  },
  {
   "cell_type": "code",
   "execution_count": 4,
   "id": "e0dbc45b",
   "metadata": {
    "hidden": true
   },
   "outputs": [],
   "source": [
    "# Число дождливых дней за 10 случайных месяцев, Санкт-Петербург\n",
    "rain = [9, 8, 4, 5, 9, 8, 6, 6, 10, 11]\n",
    "rain = np.array(rain)"
   ]
  },
  {
   "cell_type": "markdown",
   "id": "b4a7369a",
   "metadata": {
    "hidden": true
   },
   "source": [
    "1) сформулировать проверяемую ($Н_0$) и альтернативную ($Н_1$) гипотезы;"
   ]
  },
  {
   "cell_type": "markdown",
   "id": "4a432d69",
   "metadata": {
    "hidden": true
   },
   "source": [
    "$H_0:θ=10$, что в Санкт-Петербурге в месяц 10 дождливых дней\n",
    "\n",
    "$H_1:θ<10$, что в Санкт-Петербурге в месяц менее 10 дождливых дней"
   ]
  },
  {
   "cell_type": "markdown",
   "id": "58aafc02",
   "metadata": {
    "hidden": true
   },
   "source": [
    "2) назначить уровень значимости α;"
   ]
  },
  {
   "cell_type": "code",
   "execution_count": 5,
   "id": "0e3cd9ae",
   "metadata": {
    "hidden": true
   },
   "outputs": [],
   "source": [
    "alpha = 0.05"
   ]
  },
  {
   "cell_type": "markdown",
   "id": "b55bc705",
   "metadata": {
    "hidden": true
   },
   "source": [
    "3) выбрать статистику Z критерия для проверки гипотезы $Н_0$;"
   ]
  },
  {
   "cell_type": "code",
   "execution_count": 6,
   "id": "43e268e4",
   "metadata": {
    "hidden": true
   },
   "outputs": [
    {
     "data": {
      "text/plain": [
       "7.6"
      ]
     },
     "execution_count": 6,
     "metadata": {},
     "output_type": "execute_result"
    }
   ],
   "source": [
    "# в качестве статистики критерия используем статистику математического ожидание - выборочное среднее\n",
    "mean = np.mean(rain)\n",
    "mean"
   ]
  },
  {
   "cell_type": "markdown",
   "id": "4f4291b7",
   "metadata": {
    "hidden": true
   },
   "source": [
    "4) определить выборочное распределение статистики Z при условии, что верна гипотеза $Н_0$;"
   ]
  },
  {
   "cell_type": "code",
   "execution_count": 7,
   "id": "e09395df",
   "metadata": {
    "hidden": true
   },
   "outputs": [
    {
     "name": "stdout",
     "output_type": "stream",
     "text": [
      "Дисперсия = 4.64\n",
      "Размерность выборки = 10\n"
     ]
    }
   ],
   "source": [
    "D = np.var(rain)\n",
    "n = 10\n",
    "print(f\"Дисперсия = {D}\")\n",
    "print(f\"Размерность выборки = {n}\")"
   ]
  },
  {
   "cell_type": "markdown",
   "id": "f49c83ca",
   "metadata": {
    "hidden": true
   },
   "source": [
    "$Z = \\frac{\\overline{X}-10}{\\sqrt{\\frac{4.64}{10}}} $"
   ]
  },
  {
   "cell_type": "markdown",
   "id": "6e622c2c",
   "metadata": {
    "hidden": true
   },
   "source": [
    "5) в зависимости от формулировки альтернативной гипотезы определить критическую область $V_k$ одним из неравенств или совокупности неравенств:\n",
    "\n",
    "    - z > Z{1-α}\n",
    "    - Z < zα\n",
    "    - Z < z{α/2} и Z > z{1 - α/2};"
   ]
  },
  {
   "cell_type": "code",
   "execution_count": 10,
   "id": "1166dc5a",
   "metadata": {
    "hidden": true
   },
   "outputs": [
    {
     "data": {
      "text/plain": [
       "-1.6448536269514729"
      ]
     },
     "execution_count": 10,
     "metadata": {},
     "output_type": "execute_result"
    }
   ],
   "source": [
    "# Z < zα\n",
    "za = norm.ppf(0.05)\n",
    "za"
   ]
  },
  {
   "cell_type": "markdown",
   "id": "86706228",
   "metadata": {
    "hidden": true
   },
   "source": [
    "6) получить выборку наблюдений и вычислить выборочные значения zv статистики критерия;"
   ]
  },
  {
   "cell_type": "code",
   "execution_count": 11,
   "id": "cf6b158f",
   "metadata": {
    "hidden": true
   },
   "outputs": [
    {
     "data": {
      "text/plain": [
       "-4.404151646360277"
      ]
     },
     "execution_count": 11,
     "metadata": {},
     "output_type": "execute_result"
    }
   ],
   "source": [
    "zv = (7-10)/((4.64/10)**(1/2))\n",
    "zv"
   ]
  },
  {
   "cell_type": "markdown",
   "id": "afbe528c",
   "metadata": {
    "hidden": true
   },
   "source": [
    "7) принять статистическое решение:\n",
    "\n",
    "если zv ∈ $V_k$, то отклонить гипотезу $Н_0$ как не согласующуюся с результатами наблюдений;\n",
    "\n",
    "если zv ∈ V \\ $V_k$, то принять гипотезу $Н_0$, т. е. считать, что гипотеза $Н_1$ не противоречит наблюдениям."
   ]
  },
  {
   "cell_type": "markdown",
   "id": "0d85f367",
   "metadata": {
    "hidden": true
   },
   "source": [
    "статистическое решение: так как выборочное значение статистики критерия принадлежит критическо области, гипотеза $Н_0$ отклоняется. Следует считать, что в Санкт-Петербурге менее 10 дождливых дней в месяц"
   ]
  },
  {
   "cell_type": "markdown",
   "id": "8b8b9297",
   "metadata": {
    "hidden": true
   },
   "source": [
    "8*) Вычисление ошибки 1го и 2го рода"
   ]
  },
  {
   "cell_type": "markdown",
   "id": "32ea0c9e",
   "metadata": {
    "hidden": true
   },
   "source": [
    "$error 1 = Ф_{1}(\\frac{mean - 10}{\\sqrt{\\frac{4.64}{10}}})$"
   ]
  },
  {
   "cell_type": "code",
   "execution_count": 12,
   "id": "39103192",
   "metadata": {
    "hidden": true
   },
   "outputs": [
    {
     "data": {
      "text/plain": [
       "3.523321317088221"
      ]
     },
     "execution_count": 12,
     "metadata": {},
     "output_type": "execute_result"
    }
   ],
   "source": [
    "x1 = abs((mean-10)/((0.464)**(1/2)))\n",
    "x1"
   ]
  },
  {
   "cell_type": "markdown",
   "id": "bc9ce639",
   "metadata": {
    "hidden": true
   },
   "source": [
    "$error 2 = Ф_{1}(\\frac{mean - 7}{\\sqrt{\\frac{4.64}{10}}})$"
   ]
  },
  {
   "cell_type": "code",
   "execution_count": 14,
   "id": "b3f494dc",
   "metadata": {
    "hidden": true
   },
   "outputs": [
    {
     "data": {
      "text/plain": [
       "0.8808303292720546"
      ]
     },
     "execution_count": 14,
     "metadata": {},
     "output_type": "execute_result"
    }
   ],
   "source": [
    "x2 = abs((mean-7)/((0.464)**(1/2)))\n",
    "x2"
   ]
  },
  {
   "cell_type": "code",
   "execution_count": 15,
   "id": "d2fdcf52",
   "metadata": {
    "hidden": true
   },
   "outputs": [],
   "source": [
    "f = norm.cdf"
   ]
  },
  {
   "cell_type": "code",
   "execution_count": 16,
   "id": "1390dbb5",
   "metadata": {
    "hidden": true
   },
   "outputs": [
    {
     "name": "stdout",
     "output_type": "stream",
     "text": [
      "Ошибка 1го: 0.021308717524870513%\n",
      "Ошибка 2го: 18.92048306663623%\n"
     ]
    }
   ],
   "source": [
    "print(f\"Ошибка 1го: {(1-f(x1))*100}%\")\n",
    "print(f\"Ошибка 2го: {(1-f(x2))*100}%\")"
   ]
  },
  {
   "cell_type": "markdown",
   "id": "3baea0d2",
   "metadata": {},
   "source": [
    "### Лабораторная работа 2.4."
   ]
  },
  {
   "cell_type": "markdown",
   "id": "2739bd34",
   "metadata": {},
   "source": [
    "1. Используя данные о погоде с одного из рассмотренных ранее сайтов найти корреляцию между:\n",
    "    - температурой и влажностью,\n",
    "    - температурой и силой ветра,\n",
    "    - направлением ветра и осадками."
   ]
  },
  {
   "cell_type": "code",
   "execution_count": 8,
   "id": "58cdcc23",
   "metadata": {},
   "outputs": [],
   "source": [
    "#москва июнь 2023\n",
    "t = [21,23,7,14,16,20,18,22,21,15,16,19,20,24,25,26,27,24,21,24,20,25,19,17,23,23,22,21,19,18]\n",
    "vlag = [37,41,88,45,58,45,60,42,27,31,31,32,29,28,24,31,28,28,24,42,28,30,85,69,38,46,54,60,45,66] \n",
    "sila_vetra = [4.2,4.1,5.8,4.3,4.7,3.9,4.0,2.0,3.8,6.2,5.0,5.8,4.2,3.6,2.9,3.6,4.3,3.0,3.6,4.4,4.0,3.0,\n",
    "              1.4,4.5,2.3,1.8,4.0,5.0,5.1,1.5] \n",
    "naprav_vetra = [8,2,1,4,4,4,8,4,4,1,5,5,3,5,5,5,5,1,1,6,1,8,3,1,2,3,7,7,7,3] \n",
    "rain = [0,0,1,0,0,0,0,0,0,0,0,0,0,0,0,0,0,0,0,0,0,0,0,0,0,0,0,0,2,0]\n",
    "# с 1\n",
    "# ю 2\n",
    "# в 3\n",
    "# з 4\n",
    "# св 5\n",
    "# сз 6\n",
    "# юв 7\n",
    "# юз 8\n",
    "\n",
    "# нет осадков 0\n",
    "# небольшой дождь 1\n",
    "# сильный дождь 2"
   ]
  },
  {
   "cell_type": "code",
   "execution_count": 9,
   "id": "337fee2f",
   "metadata": {},
   "outputs": [],
   "source": [
    "from scipy.stats import pearsonr"
   ]
  },
  {
   "cell_type": "code",
   "execution_count": 10,
   "id": "1a1df338",
   "metadata": {},
   "outputs": [
    {
     "data": {
      "text/plain": [
       "(-0.5800516757482864, 0.0007799204270050949)"
      ]
     },
     "execution_count": 10,
     "metadata": {},
     "output_type": "execute_result"
    }
   ],
   "source": [
    "pearsonr(t,vlag)"
   ]
  },
  {
   "cell_type": "code",
   "execution_count": 11,
   "id": "651c9a0c",
   "metadata": {},
   "outputs": [
    {
     "data": {
      "text/plain": [
       "(-0.4604522538515449, 0.01045260792373807)"
      ]
     },
     "execution_count": 11,
     "metadata": {},
     "output_type": "execute_result"
    }
   ],
   "source": [
    "pearsonr(t,sila_vetra)"
   ]
  },
  {
   "cell_type": "code",
   "execution_count": 12,
   "id": "0797e70a",
   "metadata": {},
   "outputs": [
    {
     "data": {
      "text/plain": [
       "(0.10145143842372606, 0.5937285701724837)"
      ]
     },
     "execution_count": 12,
     "metadata": {},
     "output_type": "execute_result"
    }
   ],
   "source": [
    "pearsonr(naprav_vetra,rain)"
   ]
  },
  {
   "cell_type": "code",
   "execution_count": 18,
   "id": "b68ea29e",
   "metadata": {},
   "outputs": [],
   "source": [
    "import numpy as np\n",
    "X = np.array([t,vlag,sila_vetra,naprav_vetra,rain])"
   ]
  },
  {
   "cell_type": "code",
   "execution_count": 19,
   "id": "6d484e08",
   "metadata": {},
   "outputs": [
    {
     "data": {
      "text/plain": [
       "array([[ 1.        , -0.58005168, -0.46045225,  0.2985265 , -0.32983498],\n",
       "       [-0.58005168,  1.        , -0.05684481, -0.06442581,  0.23992942],\n",
       "       [-0.46045225, -0.05684481,  1.        ,  0.08014588,  0.30720495],\n",
       "       [ 0.2985265 , -0.06442581,  0.08014588,  1.        ,  0.10145144],\n",
       "       [-0.32983498,  0.23992942,  0.30720495,  0.10145144,  1.        ]])"
      ]
     },
     "execution_count": 19,
     "metadata": {},
     "output_type": "execute_result"
    }
   ],
   "source": [
    "np.corrcoef(X)"
   ]
  }
 ],
 "metadata": {
  "kernelspec": {
   "display_name": "Python 3 (ipykernel)",
   "language": "python",
   "name": "python3"
  },
  "language_info": {
   "codemirror_mode": {
    "name": "ipython",
    "version": 3
   },
   "file_extension": ".py",
   "mimetype": "text/x-python",
   "name": "python",
   "nbconvert_exporter": "python",
   "pygments_lexer": "ipython3",
   "version": "3.9.7"
  },
  "varInspector": {
   "cols": {
    "lenName": 16,
    "lenType": 16,
    "lenVar": 40
   },
   "kernels_config": {
    "python": {
     "delete_cmd_postfix": "",
     "delete_cmd_prefix": "del ",
     "library": "var_list.py",
     "varRefreshCmd": "print(var_dic_list())"
    },
    "r": {
     "delete_cmd_postfix": ") ",
     "delete_cmd_prefix": "rm(",
     "library": "var_list.r",
     "varRefreshCmd": "cat(var_dic_list()) "
    }
   },
   "types_to_exclude": [
    "module",
    "function",
    "builtin_function_or_method",
    "instance",
    "_Feature"
   ],
   "window_display": false
  }
 },
 "nbformat": 4,
 "nbformat_minor": 5
}
